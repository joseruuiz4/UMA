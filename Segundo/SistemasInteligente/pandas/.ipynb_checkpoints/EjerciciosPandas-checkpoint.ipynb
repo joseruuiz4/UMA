{
 "cells": [
  {
   "cell_type": "code",
   "execution_count": 4,
   "id": "c0f06a2e-1281-423f-917f-4a560b530e58",
   "metadata": {},
   "outputs": [],
   "source": [
    "import pandas as pd\n",
    "\n",
    "df = pd.read_csv(\"./bmw.csv\")\n"
   ]
  },
  {
   "cell_type": "markdown",
   "id": "7f6f36ce-8354-4a51-84c7-1f4a7d38472f",
   "metadata": {},
   "source": [
    "**Ejercicio 1:**\n",
    "Muestre los primeros 10 registros de la base de datos.\n"
   ]
  },
  {
   "cell_type": "code",
   "execution_count": 19,
   "id": "d855560c-1f7a-49a5-ba68-d97d53fc5219",
   "metadata": {},
   "outputs": [
    {
     "name": "stdout",
     "output_type": "stream",
     "text": [
      "       model  year  price transmission  mileage fuelType  tax   mpg  \\\n",
      "0   5 Series  2014  11200    Automatic    67068   Diesel  125  57.6   \n",
      "1   6 Series  2018  27000    Automatic    14827   Petrol  145  42.8   \n",
      "2   5 Series  2016  16000    Automatic    62794   Diesel  160  51.4   \n",
      "3   1 Series  2017  12750    Automatic    26676   Diesel  145  72.4   \n",
      "4   7 Series  2014  14500    Automatic    39554   Diesel  160  50.4   \n",
      "5   5 Series  2016  14900    Automatic    35309   Diesel  125  60.1   \n",
      "6   5 Series  2017  16000    Automatic    38538   Diesel  125  60.1   \n",
      "7   2 Series  2018  16250       Manual    10401   Petrol  145  52.3   \n",
      "8   4 Series  2017  14250       Manual    42668   Diesel   30  62.8   \n",
      "9   5 Series  2016  14250    Automatic    36099   Diesel   20  68.9   \n",
      "\n",
      "   engineSize  \n",
      "0         2.0  \n",
      "1         2.0  \n",
      "2         3.0  \n",
      "3         1.5  \n",
      "4         3.0  \n",
      "5         2.0  \n",
      "6         2.0  \n",
      "7         1.5  \n",
      "8         2.0  \n",
      "9         2.0  \n"
     ]
    }
   ],
   "source": [
    "print(df.head(10))"
   ]
  },
  {
   "cell_type": "markdown",
   "id": "9fb427e1-1066-4f1d-8f4f-00b5adaa8e21",
   "metadata": {},
   "source": [
    "**Ejercicio 2:**\n",
    "Obtenga la serie correspondiente al atributo year, y a continuación obtenga el tipo de datos y el número de registros de dicha serie.\n"
   ]
  },
  {
   "cell_type": "code",
   "execution_count": 27,
   "id": "2022aa9e-231d-48c8-98a7-a83daeff26e2",
   "metadata": {},
   "outputs": [
    {
     "name": "stdout",
     "output_type": "stream",
     "text": [
      "Tipo de datos: int64\n",
      "Número de registros: 10781\n"
     ]
    }
   ],
   "source": [
    "serie_year = df['year']\n",
    "\n",
    "tipo_datos = serie_year.dtype\n",
    "\n",
    "num_registros = serie_year.count()\n",
    "\n",
    "print(\"Tipo de datos:\", tipo_datos)\n",
    "print(\"Número de registros:\", num_registros)"
   ]
  },
  {
   "cell_type": "markdown",
   "id": "fa188558-5717-4daa-98d1-e27e74a3d693",
   "metadata": {},
   "source": [
    "**Ejercicio 3:**\n",
    "Obtenga la serie correspondiente al atributo mileage, y después seleccione los registros de posición múltiplo de 7 en dicha serie.\n"
   ]
  },
  {
   "cell_type": "code",
   "execution_count": 32,
   "id": "4fd07b67-343f-4ef1-bc6a-126a30a31c2f",
   "metadata": {},
   "outputs": [
    {
     "name": "stdout",
     "output_type": "stream",
     "text": [
      "0        67068\n",
      "7        10401\n",
      "14       19057\n",
      "21       78957\n",
      "28       96213\n",
      "         ...  \n",
      "10752    41500\n",
      "10759    54008\n",
      "10766    54987\n",
      "10773    60372\n",
      "10780    59432\n",
      "Name: mileage, Length: 1541, dtype: int64\n"
     ]
    }
   ],
   "source": [
    "serie_mileage = df['mileage']\n",
    "\n",
    "registros_multiplo_7 = serie_mileage[::7]\n",
    "\n",
    "print(registros_multiplo_7)"
   ]
  },
  {
   "cell_type": "markdown",
   "id": "6d87a031-b7cd-44e4-b53a-5cfb32c2acd8",
   "metadata": {},
   "source": [
    "**Ejercicio 4:**\n",
    "Obtenga la serie correspondiente al atributo mileage, y después seleccione aleatoriamente el 40% de los registros de dicha serie.\n"
   ]
  },
  {
   "cell_type": "code",
   "execution_count": 35,
   "id": "cd90fe3e-2555-4c9f-8f95-a35c81d617bd",
   "metadata": {},
   "outputs": [
    {
     "name": "stdout",
     "output_type": "stream",
     "text": [
      "9015    43425\n",
      "4342    25632\n",
      "772     11711\n",
      "8464    32794\n",
      "1632    25898\n",
      "        ...  \n",
      "1333      123\n",
      "8208    41115\n",
      "7703    26000\n",
      "7757    45000\n",
      "963     25970\n",
      "Name: mileage, Length: 4312, dtype: int64\n"
     ]
    }
   ],
   "source": [
    "serie_mileage = df['mileage']\n",
    "\n",
    "porcentaje = 0.4\n",
    "registros_aleatorios = serie_mileage.sample(frac=porcentaje)\n",
    "\n",
    "print(registros_aleatorios)"
   ]
  },
  {
   "cell_type": "markdown",
   "id": "d0648691-4883-470e-abe5-3130f754a77e",
   "metadata": {},
   "source": [
    "**Ejercicio 5:**\n",
    "Obtenga la serie correspondiente al atributo mileage, y después seleccione los registros de dicha serie con valor menor que 20000.\n"
   ]
  },
  {
   "cell_type": "code",
   "execution_count": 38,
   "id": "8ba66c2a-336d-44a3-a01d-9b01d177d8bf",
   "metadata": {},
   "outputs": [
    {
     "name": "stdout",
     "output_type": "stream",
     "text": [
      "1        14827\n",
      "7        10401\n",
      "14       19057\n",
      "15       16570\n",
      "39        6522\n",
      "         ...  \n",
      "10740     3551\n",
      "10741     2784\n",
      "10742     5634\n",
      "10743    13165\n",
      "10755    13955\n",
      "Name: mileage, Length: 5610, dtype: int64\n"
     ]
    }
   ],
   "source": [
    "serie_mileage = df['mileage']\n",
    "\n",
    "registros_menor_20000 = serie_mileage[serie_mileage < 20000]\n",
    "\n",
    "print(registros_menor_20000)"
   ]
  },
  {
   "cell_type": "markdown",
   "id": "e6f32ea4-22cb-4c60-ba8f-87748d971f91",
   "metadata": {},
   "source": [
    "**Ejercicio 6:**\n",
    "Obtenga la serie correspondiente al atributo mpg, y después ordene los registros de dicha serie.\n"
   ]
  },
  {
   "cell_type": "code",
   "execution_count": 42,
   "id": "319d83ab-95a9-4b5c-bed9-423299a65ebc",
   "metadata": {},
   "outputs": [
    {
     "name": "stdout",
     "output_type": "stream",
     "text": [
      "6965      5.5\n",
      "6172      5.5\n",
      "6132      5.5\n",
      "6198      5.5\n",
      "2116      5.5\n",
      "        ...  \n",
      "7299    470.8\n",
      "3628    470.8\n",
      "6070    470.8\n",
      "2352    470.8\n",
      "7347    470.8\n",
      "Name: mpg, Length: 10781, dtype: float64\n"
     ]
    }
   ],
   "source": [
    "serie_mpg = df['mpg']\n",
    "\n",
    "serie_mpg_ordenada = serie_mpg.sort_values()\n",
    "\n",
    "print(serie_mpg_ordenada)"
   ]
  },
  {
   "cell_type": "markdown",
   "id": "9386aa63-20a8-4165-b8c9-5f9d496b3172",
   "metadata": {},
   "source": [
    "**Ejercicio 7:**\n",
    "Calcule la media, la desviación típica, el mínimo y el máximo del atributo engineSize.\n"
   ]
  },
  {
   "cell_type": "code",
   "execution_count": 45,
   "id": "56eed047-7733-4439-89be-be79d1a0c343",
   "metadata": {},
   "outputs": [
    {
     "name": "stdout",
     "output_type": "stream",
     "text": [
      "Media: 2.1677673685186902\n",
      "Desviación típica: 0.5520537772398375\n",
      "Mínimo: 0.0\n",
      "Máximo: 6.6\n"
     ]
    }
   ],
   "source": [
    "media_engineSize = df['engineSize'].mean()\n",
    "\n",
    "desviacion_estandar_engineSize = df['engineSize'].std()\n",
    "\n",
    "minimo_engineSize = df['engineSize'].min()\n",
    "\n",
    "maximo_engineSize = df['engineSize'].max()\n",
    "\n",
    "print(\"Media:\", media_engineSize)\n",
    "print(\"Desviación típica:\", desviacion_estandar_engineSize)\n",
    "print(\"Mínimo:\", minimo_engineSize)\n",
    "print(\"Máximo:\", maximo_engineSize)"
   ]
  },
  {
   "cell_type": "markdown",
   "id": "eec5d65f-7b6c-47c9-9ddc-24a5e25f2402",
   "metadata": {},
   "source": [
    "**Ejercicio 8:**\n",
    "Obtenga el número de filas y columnas de la base de datos, así como el antepenúltimo registro.\n"
   ]
  },
  {
   "cell_type": "code",
   "execution_count": 52,
   "id": "969fcb4e-0e49-418b-a527-5bd312eb1f19",
   "metadata": {},
   "outputs": [
    {
     "name": "stdout",
     "output_type": "stream",
     "text": [
      "Número de filas: 10781\n",
      "Número de columnas: 9\n",
      "Antepenúltimo registro:\n",
      "model            3 Series\n",
      "year                 2017\n",
      "price               13100\n",
      "transmission       Manual\n",
      "mileage             25468\n",
      "fuelType           Petrol\n",
      "tax                   200\n",
      "mpg                  42.8\n",
      "engineSize            2.0\n",
      "Name: 10778, dtype: object\n"
     ]
    }
   ],
   "source": [
    "num_filas, num_columnas = df.shape\n",
    "\n",
    "antepenultimo_registro = df.iloc[-3]\n",
    "\n",
    "print(\"Número de filas:\", num_filas)\n",
    "print(\"Número de columnas:\", num_columnas)\n",
    "print(\"Antepenúltimo registro:\")\n",
    "print(antepenultimo_registro)"
   ]
  },
  {
   "cell_type": "markdown",
   "id": "0d347304-a0c0-411e-be22-b5ca27beaa95",
   "metadata": {},
   "source": [
    "**Ejercicio 9:**\n",
    "Obtenga los atributos mileage, price y mpg en un nuevo DataFrame, y después seleccione aleatoriamente el 20% de los registros.\n"
   ]
  },
  {
   "cell_type": "code",
   "execution_count": 65,
   "id": "8d511d71-2dfe-4230-b8b0-3aa301f91ee7",
   "metadata": {},
   "outputs": [
    {
     "name": "stdout",
     "output_type": "stream",
     "text": [
      "       mileage  price    mpg\n",
      "9275     35000   8290   51.4\n",
      "7384     71098  16975   38.2\n",
      "5784      4495  25730   38.2\n",
      "8795     37012  11000   62.8\n",
      "8516     15659  16899  148.7\n",
      "...        ...    ...    ...\n",
      "5752      4315  26000   42.2\n",
      "8065     21752  12148   52.3\n",
      "8613     39708  16000   65.7\n",
      "3931     34249  13990   53.3\n",
      "10356    18295  17100   48.7\n",
      "\n",
      "[2156 rows x 3 columns]\n"
     ]
    }
   ],
   "source": [
    "nuevo_df = df[['mileage', 'price', 'mpg']]\n",
    "\n",
    "porcentaje = 0.2\n",
    "registros_aleatorios = nuevo_df.sample(frac=porcentaje)\n",
    "\n",
    "print(registros_aleatorios)"
   ]
  },
  {
   "cell_type": "markdown",
   "id": "ad5b958b-04c5-4233-9e62-b4a77c53d75f",
   "metadata": {},
   "source": [
    "**Ejercicio 10:**\n",
    "Obtenga los registros que tengan un valor de mileage inferior a 10000 y un valor de mpg mayor que 40.\n"
   ]
  },
  {
   "cell_type": "code",
   "execution_count": 108,
   "id": "d4a391f4-5d4d-48a0-a01b-35b3413cd851",
   "metadata": {},
   "outputs": [
    {
     "name": "stdout",
     "output_type": "stream",
     "text": [
      "         model  year  price transmission  mileage fuelType  tax   mpg  \\\n",
      "131    Serie 1  2017  14600    Automatic     5615   Petrol  145  58.9   \n",
      "148    Serie 1  2016  13700       Manual     8719   Petrol  125  52.3   \n",
      "153    Serie 1  2016  13750    Automatic     8707   Petrol   30  55.5   \n",
      "166        NaN  2020  31498    Semi-Auto     1560   Diesel  145  60.1   \n",
      "167    Serie 2  2020  27998       Manual     1580   Petrol  150  43.5   \n",
      "...        ...   ...    ...          ...      ...      ...  ...   ...   \n",
      "10713  Serie 3  2020  23899    Automatic     1255   Petrol  150  47.9   \n",
      "10739  Serie 3  2019  23987    Automatic     1049   Petrol  150  47.9   \n",
      "10740  Serie 3  2019  23454    Automatic     3551   Petrol  150  47.9   \n",
      "10741  Serie 3  2019  23599    Automatic     2784   Petrol  145  47.9   \n",
      "10742  Serie 3  2019  23499    Automatic     5634   Petrol  145  47.9   \n",
      "\n",
      "       engineSize  \n",
      "131           1.5  \n",
      "148           1.5  \n",
      "153           1.5  \n",
      "166           2.0  \n",
      "167           1.5  \n",
      "...           ...  \n",
      "10713         2.0  \n",
      "10739         2.0  \n",
      "10740         2.0  \n",
      "10741         2.0  \n",
      "10742         2.0  \n",
      "\n",
      "[3079 rows x 9 columns]\n"
     ]
    }
   ],
   "source": [
    "registros_filtrados = df[(df['mileage'] < 10000) & (df['mpg'] > 40)]\n",
    "\n",
    "print(registros_filtrados)"
   ]
  },
  {
   "cell_type": "markdown",
   "id": "2e7196a6-2d2c-42fb-9763-c45e1d369657",
   "metadata": {},
   "source": [
    "**Ejercicio 11:**\n",
    "Modifique los valores del atributo model, de tal manera que los valores \" x Series\" pasen a ser \"Serie x\", siendo x un número entre 1 y 9.\n"
   ]
  },
  {
   "cell_type": "code",
   "execution_count": 7,
   "id": "c3b1dfd8-02d7-4db6-ae7b-b4921478acf7",
   "metadata": {},
   "outputs": [
    {
     "name": "stdout",
     "output_type": "stream",
     "text": [
      "0         Serie 5\n",
      "1         Serie 6\n",
      "2         Serie 5\n",
      "3         Serie 1\n",
      "4         Serie 7\n",
      "           ...   \n",
      "10776          X3\n",
      "10777     Serie 5\n",
      "10778     Serie 3\n",
      "10779     Serie 1\n",
      "10780          X1\n",
      "Name: model, Length: 10781, dtype: object\n"
     ]
    }
   ],
   "source": [
    "df['model'] = df['model'].replace(to_replace=r'(\\d) Series', value=r'Serie \\1', regex=True)\n",
    "\n",
    "print(df['model'])\n"
   ]
  },
  {
   "cell_type": "markdown",
   "id": "073370a6-6189-44e2-9a6a-d86bde2965b5",
   "metadata": {},
   "source": [
    "**Ejercicio 12:**\n",
    "Inserte un nuevo registro con los siguientes datos: model=\" 3 Series\", year=2023, price = 22572, transmission = \"Automatic\", mileage = 74120, fuelType = \"Diesel\", tax = 160, mpg = 58.4, engineSize = 2.0\n"
   ]
  },
  {
   "cell_type": "code",
   "execution_count": 10,
   "id": "64aff1af-4ebb-450b-840d-14592263cc14",
   "metadata": {
    "scrolled": true
   },
   "outputs": [
    {
     "name": "stdout",
     "output_type": "stream",
     "text": [
      "           model  year  price transmission  mileage fuelType  tax   mpg  \\\n",
      "10778   3 Series  2017  13100       Manual    25468   Petrol  200  42.8   \n",
      "10779   1 Series  2014   9930    Automatic    45000   Diesel   30  64.2   \n",
      "10780         X1  2017  15981    Automatic    59432   Diesel  125  57.6   \n",
      "10781   3 Series  2023  22572    Automatic    74120   Diesel  160  58.4   \n",
      "10782   3 Series  2023  22572    Automatic    74120   Diesel  160  58.4   \n",
      "\n",
      "       engineSize  \n",
      "10778         2.0  \n",
      "10779         2.0  \n",
      "10780         2.0  \n",
      "10781         2.0  \n",
      "10782         2.0  \n"
     ]
    }
   ],
   "source": [
    "nuevo_registro = {'model': '3 Series',\n",
    "                  'year': 2023,\n",
    "                  'price': 22572,\n",
    "                  'transmission': 'Automatic',\n",
    "                  'mileage': 74120,\n",
    "                  'fuelType': 'Diesel',\n",
    "                  'tax': 160,\n",
    "                  'mpg': 58.4,\n",
    "                  'engineSize': 2.0}\n",
    "\n",
    "dfaux = pd.DataFrame([nuevo_registro])\n",
    "\n",
    "df = pd.concat([df, dfaux], ignore_index=True)\n",
    "\n",
    "print(df.tail())"
   ]
  },
  {
   "cell_type": "markdown",
   "id": "13b7f892-5203-4372-b060-13f48b1b2abd",
   "metadata": {},
   "source": [
    "**Ejercicio 13:**\n",
    "Convierta el DataFrame en un ndarray de numpy, e imprima el tipo de datos del ndarray obtenido.\n"
   ]
  },
  {
   "cell_type": "code",
   "execution_count": 86,
   "id": "845c1333-7a67-4678-83d5-b66bae1c617f",
   "metadata": {},
   "outputs": [
    {
     "name": "stdout",
     "output_type": "stream",
     "text": [
      "Tipo de datos del ndarray: <class 'numpy.ndarray'>\n"
     ]
    }
   ],
   "source": [
    "import numpy as np\n",
    "\n",
    "array_numpy = df.values\n",
    "\n",
    "print(\"Tipo de datos del ndarray:\", type(array_numpy))"
   ]
  },
  {
   "cell_type": "markdown",
   "id": "277569cf-3dc9-4740-b733-42a32bba0268",
   "metadata": {},
   "source": [
    "**Ejercicio 14:**\n",
    "Calcule para cada registro el número medio de millas recorridas cada año.\n"
   ]
  },
  {
   "cell_type": "code",
   "execution_count": 99,
   "id": "c7cb7544-f520-4510-8d24-7dd6e7f1b91e",
   "metadata": {},
   "outputs": [
    {
     "name": "stdout",
     "output_type": "stream",
     "text": [
      "0        6706.800000\n",
      "1        2471.166667\n",
      "2        7849.250000\n",
      "3        3810.857143\n",
      "4        3955.400000\n",
      "            ...     \n",
      "10776    5102.250000\n",
      "10777    5368.375000\n",
      "10778    3638.285714\n",
      "10779    4500.000000\n",
      "10780    8490.285714\n",
      "Length: 10781, dtype: float64\n"
     ]
    }
   ],
   "source": [
    "millas_por_año = df['mileage'] / (2024 - df['year'])\n",
    "\n",
    "print(millas_por_año)"
   ]
  }
 ],
 "metadata": {
  "kernelspec": {
   "display_name": "Python 3 (ipykernel)",
   "language": "python",
   "name": "python3"
  },
  "language_info": {
   "codemirror_mode": {
    "name": "ipython",
    "version": 3
   },
   "file_extension": ".py",
   "mimetype": "text/x-python",
   "name": "python",
   "nbconvert_exporter": "python",
   "pygments_lexer": "ipython3",
   "version": "3.12.3"
  }
 },
 "nbformat": 4,
 "nbformat_minor": 5
}
